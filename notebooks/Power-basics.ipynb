{
 "cells": [
  {
   "cell_type": "markdown",
   "metadata": {
    "slideshow": {
     "slide_type": "slide"
    }
   },
   "source": [
    "# Introduction to reproducibility and power issues"
   ]
  },
  {
   "cell_type": "markdown",
   "metadata": {
    "slideshow": {
     "slide_type": "slide"
    }
   },
   "source": [
    "## Some Definitions "
   ]
  },
  {
   "cell_type": "markdown",
   "metadata": {
    "slideshow": {
     "slide_type": "subslide"
    }
   },
   "source": [
    "* $H_0$ : null hypothesis: The hypotheis that the effect we are testing for is null\n",
    "\n",
    "* $H_A$ : alternative hypothesis : Not $H_0$, so there is some signal\n",
    "\n",
    "* $T$ : The random variable that takes value \"significant\" or \"not significant\"\n",
    "\n",
    "* $T_S$ : Value of T when test is significant (eg $T = T_S$)\n",
    "\n",
    "* $T_N$ : Value of T when test is not significant (eg $T = T_N$)\n",
    "\n",
    "* $\\alpha$ : false positive rate - probability to reject $H_0$ when $H_0$ is true (therefore $H_A$ is false)\n",
    "\n",
    "* $\\beta$ : false negative rate - probability to accept $H_0$ when $H_A$ is true (i.e. $H_0$ is false)\n"
   ]
  },
  {
   "cell_type": "markdown",
   "metadata": {
    "slideshow": {
     "slide_type": "subslide"
    }
   },
   "source": [
    "power = $1-\\beta$ \n",
    "\n",
    "where $\\beta$ is the risk of *false negative*\n",
    "\n",
    "So, to compute power, *we need to know what is the risk of false negative*, ie, the risk to not show a significant effect while we have some signal (null is false)."
   ]
  },
  {
   "cell_type": "code",
   "execution_count": null,
   "metadata": {
    "slideshow": {
     "slide_type": "skip"
    }
   },
   "outputs": [],
   "source": [
    "from __future__ import division\n",
    "import matplotlib.pyplot as plt\n",
    "%matplotlib inline\n",
    "import numpy as np\n",
    "import scipy.stats as sst"
   ]
  },
  {
   "cell_type": "code",
   "execution_count": null,
   "metadata": {
    "slideshow": {
     "slide_type": "skip"
    }
   },
   "outputs": [],
   "source": [
    "from sympy import symbols, Eq, solve, simplify, lambdify, init_printing, latex\n",
    "init_printing(use_latex=True, order='old')"
   ]
  },
  {
   "cell_type": "code",
   "execution_count": null,
   "metadata": {
    "slideshow": {
     "slide_type": "skip"
    }
   },
   "outputs": [],
   "source": [
    "from IPython.display import HTML\n",
    "# Code to make HTML for a probability table\n",
    "def association_table(assocs, title):\n",
    "    latexed = {'title': title}\n",
    "    for key, value in assocs.items():\n",
    "        latexed[key] = latex(value)\n",
    "    latexed['s_total'] = latex(assocs['t_s'] + assocs['f_s'])\n",
    "    latexed['ns_total'] = latex(assocs['t_ns'] + assocs['f_ns'])\n",
    "    return \"\"\"<h3>{title}</h3>\n",
    "              <TABLE><TR><TH>$H/T$<TH>$T_S$<TH>$T_N$\n",
    "              <TR><TH>$H_A$<TD>${t_s}$<TD>${t_ns}$\n",
    "              <TR><TH>$H_0$<TD>${f_s}$<TD>${f_ns}$\n",
    "              <TR><TH>Total<TD>${s_total}$<TD>${ns_total}$\n",
    "              </TABLE>\"\"\".format(**latexed)"
   ]
  },
  {
   "cell_type": "code",
   "execution_count": null,
   "metadata": {
    "slideshow": {
     "slide_type": "slide"
    }
   },
   "outputs": [],
   "source": [
    "from sympy.abc import alpha, beta # get alpha, beta symbolic variables\n",
    "assoc = dict(t_s = 1 - beta, # H_A true, test significant = true positives\n",
    "             t_ns = beta, # true, not significant = false negatives\n",
    "             f_s = alpha, # false, significant = false positives\n",
    "             f_ns = 1 - alpha) # false, not sigificant = true negatives\n",
    "HTML(association_table(assoc, 'Not considering prior'))"
   ]
  },
  {
   "cell_type": "markdown",
   "metadata": {
    "slideshow": {
     "slide_type": "slide"
    }
   },
   "source": [
    "## How do we compute power ? "
   ]
  },
  {
   "cell_type": "markdown",
   "metadata": {
    "slideshow": {
     "slide_type": "fragment"
    }
   },
   "source": [
    "### What is the effect ?\n",
    "\n",
    "\n",
    "$$\\hspace{3cm}\\mu = \\mu_1 - \\mu_2$$"
   ]
  },
  {
   "cell_type": "markdown",
   "metadata": {
    "slideshow": {
     "slide_type": "fragment"
    }
   },
   "source": [
    "### What is the standardized effect ? (eg Cohen's d)\n",
    "\n",
    "$$\\hspace{3cm}d = \\frac{\\mu_1 - \\mu_2}{\\sigma} = \\frac{\\mu}{\\sigma}$$"
   ]
  },
  {
   "cell_type": "markdown",
   "metadata": {
    "slideshow": {
     "slide_type": "fragment"
    }
   },
   "source": [
    "### \"Z\" : Effect accounting for the sample size \n",
    "\n",
    "$$\\hspace{3cm}Z = \\frac{\\mu}{\\sigma / \\sqrt{n}}$$"
   ]
  },
  {
   "cell_type": "markdown",
   "metadata": {
    "slideshow": {
     "slide_type": "slide"
    }
   },
   "source": [
    "### Cohen's d value:"
   ]
  },
  {
   "cell_type": "code",
   "execution_count": null,
   "metadata": {
    "slideshow": {
     "slide_type": "fragment"
    }
   },
   "outputs": [],
   "source": [
    "# print some cohen values\n",
    "# %pylab inline\n",
    "muse = (.05, .1,.2,.3,.4,.5);\n",
    "sigmas = np.linspace(1.,.5,len(muse))\n",
    "cohenstr = [\"For sigma = %3.2f and m = %3.2f Cohen d = %3.2f\" %(sig,mu,coh) \n",
    "       for (sig,mu,coh) in zip(sigmas,muse, np.asarray(muse)/sigmas)]\n",
    "for s in cohenstr:\n",
    "    print(s)"
   ]
  },
  {
   "cell_type": "markdown",
   "metadata": {
    "slideshow": {
     "slide_type": "fragment"
    }
   },
   "source": [
    "We have to estimate the effect $\\mu$, say under some normal noise. Our statistic will be:\n",
    "\n",
    "$$\n",
    "t = \\frac{\\hat{\\mu}}{\\hat{\\sigma_{\\mu}}} = \\frac{\\hat{\\mu}}{\\hat{{SE}_{\\mu}}}\n",
    "$$"
   ]
  },
  {
   "cell_type": "markdown",
   "metadata": {
    "slideshow": {
     "slide_type": "slide"
    }
   },
   "source": [
    "Power is the probability that the observed t is greater than $t_{.05}$, computing $t_{.05}$ by assuming that we are under the null. \n",
    "\n",
    "So, we compute $t_{.05}$, and want to compute $P(t > t_{.05})$. \n",
    "\n",
    "To compute this, __we need the distribution of our measured t - therefore we need to know the signal / effect size !__ \n",
    "\n",
    "Let's assume we know this and call it $t_{nc}$, and $F_{nc}$ for the cumulative distribution (more on this in the appendix).\n",
    "\n",
    "$\\mbox{Power} = 1 - \\beta =  P(t > t_{.05}) = 1 - F_{nc}(t_{.05})$\n"
   ]
  },
  {
   "cell_type": "markdown",
   "metadata": {
    "slideshow": {
     "slide_type": "fragment"
    }
   },
   "source": [
    "__This power will depend on 4 parameters :__\n",
    "\n",
    "$$ \\mbox{The non standardized effect : } \\mu$$\n",
    "\n",
    "$$\\mbox{The standard deviation of the data : } \\sigma$$\n",
    "\n",
    "$$\\mbox{The number of subjects : } n$$\n",
    "\n",
    "$$\\mbox{The type I risk of error : } \\alpha$$\n",
    "\n",
    "And on the distribution of the statistic under the alternative hypothesis. Here, we assume our original data are normals, and the $t = \\frac{\\hat{\\mu}}{\\hat{{SE}_{\\mu}}}$ statistics follows a non central t distribution with non centrality parameter \n",
    "\n",
    "$$\\theta = \\mu \\sqrt{n}/\\sigma$$\n",
    "\n",
    "and $n-1$ degrees of freedom. "
   ]
  },
  {
   "cell_type": "markdown",
   "metadata": {},
   "source": [
    "### What is the effect size of APOE on the hippocampal volume ?\n",
    "\n",
    "\n",
    "Authors find p value of 6.63e-10\n",
    "\n",
    "They had 733 subjects"
   ]
  },
  {
   "cell_type": "code",
   "execution_count": null,
   "metadata": {},
   "outputs": [],
   "source": [
    "n01 = sst.norm(0,1.)\n",
    "z = n01.isf(6.6311e-10)\n",
    "d = n01.isf(6.6311e-10)/np.sqrt(733)\n",
    "print(\"z = %4.3f d = %4.3f \" %(z,d))"
   ]
  },
  {
   "cell_type": "code",
   "execution_count": null,
   "metadata": {
    "slideshow": {
     "slide_type": "skip"
    }
   },
   "outputs": [],
   "source": [
    "import scipy.stats as sst\n",
    "import numpy as np\n",
    "import matplotlib.pyplot as plt\n"
   ]
  },
  {
   "cell_type": "code",
   "execution_count": null,
   "metadata": {},
   "outputs": [],
   "source": [
    "# plot power as a function of n : define a little function that \n",
    "# takes n, mu, sigma, alpha, and report n. \n",
    "# Optionally plot power as a function of nfrom matplotlib.patches import Polygon\n",
    "\n",
    "\n",
    "def stat_power(n=16, mu=1., sigma=1., alpha=0.05):\n",
    "    \"\"\"\n",
    "    This function computes the statistical power of an analysis assuming a normal\n",
    "    distribution of the data with a one sample t-test\n",
    "    \n",
    "    Parameters:\n",
    "    -----------\n",
    "    n: int,\n",
    "        The number of sample in the experiment\n",
    "    mu: float\n",
    "        The mean of the alternative\n",
    "    sigma: float\n",
    "        The standard deviation of the alternative\n",
    "    plot: bool\n",
    "        Plot something\n",
    "    alpha: float\n",
    "        The risk of error (type I)\n",
    "    xlen: int\n",
    "        Number of points for the display\n",
    "    \n",
    "    Returns:\n",
    "    --------\n",
    "    float\n",
    "        The statistical power for this number of sample, mu, sigma, alpha\n",
    "    \"\"\"\n",
    "    df = n-1\n",
    "    theta = np.sqrt(n)*mu/sigma    \n",
    "    t_alph_null = sst.t.isf(alpha, df)\n",
    "    ncrv = sst.nct(df, theta)\n",
    "    spow = 1 - ncrv.cdf(t_alph_null)\n",
    "\n",
    "    return spow\n"
   ]
  },
  {
   "cell_type": "code",
   "execution_count": null,
   "metadata": {},
   "outputs": [],
   "source": [
    "from matplotlib.patches import Polygon\n",
    "\n",
    "def plot_power(n=16, mu=1., sigma=1., alpha=0.05, xlen=500):\n",
    "    \n",
    "    df = n-1\n",
    "    theta = np.sqrt(n)*mu/sigma\n",
    "    ncrv = sst.nct(df, theta)\n",
    "    t_alph_null = sst.t.isf(alpha, df)\n",
    "    spow = 1 - ncrv.cdf(t_alph_null)\n",
    "\n",
    "    \n",
    "    # define the domain of the plot\n",
    "    norv = sst.norm(0, 1.)\n",
    "    bornesnc = ncrv.isf([0.001, .999])\n",
    "    bornesn = norv.isf([0.001, .999])\n",
    "    \n",
    "    # because the nc t will have higher max borne, and the H0 normal will be on the left\n",
    "    x = np.linspace(np.min(bornesn), np.max(bornesnc), xlen)\n",
    "    t_line = np.zeros_like(x)\n",
    "    \n",
    "    # define the line \n",
    "    x_t_line = np.argmin((x-t_alph_null)**2)\n",
    "    y_t_line = np.max(np.hstack((ncrv.pdf(x), norv.pdf(x))))\n",
    "    t_line[x_t_line] = y_t_line\n",
    "\n",
    "    fig, ax = plt.subplots()\n",
    "    plt.plot(x, ncrv.pdf(x), 'g', x, norv.pdf(x), 'b', x, t_line, 'r')\n",
    "        \n",
    "    # Make the shaded region\n",
    "    # http://matplotlib.org/xkcd/examples/showcase/integral_demo.html\n",
    "    a = x[x_t_line]; b =  np.max(bornesnc);\n",
    "    ix = np.linspace(a,b)\n",
    "    iy = ncrv.pdf(ix)\n",
    "    verts = [(a, 0)] + list(zip(ix, iy)) + [(b, 0)]\n",
    "    poly = Polygon(verts, facecolor='0.9', edgecolor='0.5')\n",
    "    ax.add_patch(poly)\n",
    "        \n",
    "    ax.set_xlabel(\"t-value - H1 centred on \" + r\"$\\theta $\" + \" = %4.2f;  \" %theta \n",
    "                      + r\"$\\mu$\" + \" = %4.2f\" %mu); \n",
    "    ax.set_ylabel(\"Probability(t)\");\n",
    "    ax.set_title('H0 and H1 sampling densities ' \n",
    "                     + r'$\\beta$' + '= %3.2f' %spow + ' n = %d' %n)\n",
    "    plt.show()\n"
   ]
  },
  {
   "cell_type": "code",
   "execution_count": null,
   "metadata": {
    "slideshow": {
     "slide_type": "slide"
    }
   },
   "outputs": [],
   "source": [
    "n = 17\n",
    "mu = .5\n",
    "sigma = 2.\n",
    "pwr = stat_power(n, mu, sigma, alpha=0.05)\n",
    "plot_power(n, mu, sigma, alpha=0.05, xlen=500)\n",
    "\n",
    "print (\"Power = \", pwr, \"      Z effect (Non centrality parameter) = \", mu*np.sqrt(n)/sigma)"
   ]
  },
  {
   "cell_type": "code",
   "execution_count": null,
   "metadata": {
    "slideshow": {
     "slide_type": "slide"
    }
   },
   "outputs": [],
   "source": [
    "n = 50\n",
    "mu = .5\n",
    "sigma = 1.\n",
    "pwr = stat_power(n, mu, sigma, alpha=0.05)\n",
    "plot_power(n, mu, sigma, alpha=0.05, xlen=500)\n",
    "\n",
    "print(\"Power = \", pwr, \"      Z effect (Non centrality parameter): \", mu*np.sqrt(n)/sigma)"
   ]
  },
  {
   "cell_type": "markdown",
   "metadata": {
    "slideshow": {
     "slide_type": "slide"
    }
   },
   "source": [
    "### Plot power as a function of the number of subject in the study"
   ]
  },
  {
   "cell_type": "code",
   "execution_count": null,
   "metadata": {
    "slideshow": {
     "slide_type": "fragment"
    }
   },
   "outputs": [],
   "source": [
    "# \n",
    "\n",
    "def pwr_funcofsubj(muse, nses, alpha=.05, sigma=1):\n",
    "    \"\"\"\n",
    "    Function to plot power as a function of the number of subjects (the nses) \n",
    "    for an array of effect size (muses)\n",
    "    \n",
    "    muse: array of float \n",
    "          The effect sizes : mu\n",
    "    nses: array of integer\n",
    "          The number of subjects\n",
    "    alpha: float, \n",
    "          type I risk\n",
    "    sigma: float, \n",
    "          data sigma\n",
    "    \"\"\"\n",
    "    mstr = [ 'd='+str(m) for m in np.asarray(muse)/sigma]\n",
    "    lines=[]\n",
    "    for mu in (muse):\n",
    "        pw = [stat_power(n, mu, sigma, alpha=alpha) for n in nses]    \n",
    "        (pl,) = plt.plot(nses, pw)\n",
    "        lines.append(pl)\n",
    "    plt.legend( lines, mstr, loc='upper right', shadow=True)\n",
    "    plt.xlabel(\" Number of subjects \")\n",
    "    plt.ylabel(\" Power \");\n",
    "    \n",
    "    return None\n"
   ]
  },
  {
   "cell_type": "markdown",
   "metadata": {},
   "source": [
    "### **** For a small number of subjects ****"
   ]
  },
  {
   "cell_type": "code",
   "execution_count": null,
   "metadata": {},
   "outputs": [],
   "source": [
    "mus = (.05, .1,.2,.3,.4,.5, .6);\n",
    "#nse = range(70, 770, 20)\n",
    "nse = range(7, 77, 2)\n",
    "alph = 1.e-3\n",
    "    \n",
    "pwr_funcofsubj(mus, nse, alph)"
   ]
  },
  {
   "cell_type": "markdown",
   "metadata": {
    "slideshow": {
     "slide_type": "slide"
    }
   },
   "source": [
    "### **** For a larger number of subjects ****"
   ]
  },
  {
   "cell_type": "code",
   "execution_count": null,
   "metadata": {
    "slideshow": {
     "slide_type": "fragment"
    }
   },
   "outputs": [],
   "source": [
    "mus = (.05,.1,.2,.3,.4,.5,.6);\n",
    "nse = range(10, 330, 20)\n",
    "#nse = range(7, 77, 2)\n",
    "alph = 0.001\n",
    "    \n",
    "pwr_funcofsubj(mus, nse, alph)"
   ]
  },
  {
   "cell_type": "markdown",
   "metadata": {
    "slideshow": {
     "slide_type": "slide"
    }
   },
   "source": [
    "### Here - stricter $\\alpha$"
   ]
  },
  {
   "cell_type": "code",
   "execution_count": null,
   "metadata": {
    "scrolled": true,
    "slideshow": {
     "slide_type": "fragment"
    }
   },
   "outputs": [],
   "source": [
    "mus = (.05, .1,.2,.3,.4,.5, .6);\n",
    "#nse = range(10, 770, 20)\n",
    "nse = range(7, 77, 2)\n",
    "alph = 0.05/30000\n",
    "alph = 0.05\n",
    "    \n",
    "pwr_funcofsubj(mus, nse, alph)"
   ]
  },
  {
   "cell_type": "code",
   "execution_count": null,
   "metadata": {},
   "outputs": [],
   "source": []
  },
  {
   "cell_type": "code",
   "execution_count": null,
   "metadata": {},
   "outputs": [],
   "source": [
    "#Example: \n",
    "n = 259; mu= 230; sigma = 1487\n",
    "stat_power(n, mu, sigma, alpha=0.05)"
   ]
  }
 ],
 "metadata": {
  "celltoolbar": "Raw Cell Format",
  "kernelspec": {
   "display_name": "Python 3",
   "language": "python",
   "name": "python3"
  },
  "language_info": {
   "codemirror_mode": {
    "name": "ipython",
    "version": 3
   },
   "file_extension": ".py",
   "mimetype": "text/x-python",
   "name": "python",
   "nbconvert_exporter": "python",
   "pygments_lexer": "ipython3",
   "version": "3.6.7"
  },
  "toc": {
   "nav_menu": {
    "height": "155px",
    "width": "254px"
   },
   "number_sections": true,
   "sideBar": true,
   "skip_h1_title": false,
   "toc_cell": false,
   "toc_position": {},
   "toc_section_display": "block",
   "toc_window_display": false
  }
 },
 "nbformat": 4,
 "nbformat_minor": 1
}

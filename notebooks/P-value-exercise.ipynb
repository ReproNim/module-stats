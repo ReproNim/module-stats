{
 "cells": [
  {
   "cell_type": "markdown",
   "metadata": {
    "slideshow": {
     "slide_type": "slide"
    }
   },
   "source": [
    "# Playing with P-values"
   ]
  },
  {
   "cell_type": "markdown",
   "metadata": {
    "slideshow": {
     "slide_type": "slide"
    }
   },
   "source": [
    "## Recall some definitions "
   ]
  },
  {
   "cell_type": "markdown",
   "metadata": {
    "slideshow": {
     "slide_type": "subslide"
    }
   },
   "source": [
    "* $H_0$ : null hypothesis: The hypotheis that the effect we are testing for is null\n",
    "\n",
    "* $H_A$ : alternative hypothesis : Not $H_0$, so there is some signal\n",
    "\n",
    "* $T$ : The random variable that takes value \"significant\" or \"not significant\"\n",
    "\n",
    "* $T_S$ : Value of T when test is significant (eg $T = T_S$)\n",
    "\n",
    "* $T_N$ : Value of T when test is not significant (eg $T = T_N$)\n",
    "\n",
    "* $\\alpha$ : false positive rate - probability to reject $H_0$ when $H_0$ is true (therefore $H_A$ is false)\n",
    "\n",
    "* $\\beta$ : false negative rate - probability to accept $H_0$ when $H_A$ is true (i.e. $H_0$ is false)\n"
   ]
  },
  {
   "cell_type": "code",
   "execution_count": 1,
   "metadata": {
    "collapsed": true
   },
   "outputs": [],
   "source": [
    "import matplotlib.pyplot as plt\n",
    "%matplotlib inline\n",
    "import numpy as np\n",
    "import scipy.stats as sst"
   ]
  },
  {
   "cell_type": "markdown",
   "metadata": {
    "slideshow": {
     "slide_type": "subslide"
    }
   },
   "source": [
    "## Step 1: Generate N samples from the normal distribution"
   ]
  },
  {
   "cell_type": "code",
   "execution_count": 2,
   "metadata": {
    "collapsed": false,
    "slideshow": {
     "slide_type": "skip"
    }
   },
   "outputs": [
    {
     "data": {
      "text/plain": [
       "[<matplotlib.lines.Line2D at 0x7fc40debb6a0>]"
      ]
     },
     "execution_count": 2,
     "metadata": {},
     "output_type": "execute_result"
    },
    {
     "data": {
      "image/png": "[encoded data removed]",
      "text/plain": [
       "<matplotlib.figure.Figure at 0x7fc40debb2e8>"
      ]
     },
     "metadata": {},
     "output_type": "display_data"
    }
   ],
   "source": [
    "# define the normal 0,1 object\n",
    "norm01 = sst.norm(0,1)\n",
    "# Let's fix the seed of the random generator\n",
    "np.random.seed(42) # 42 is arbitrary \n",
    "# Draw from the normal:\n",
    "# norm01 has a \"random variables\" function drawing from this distribution\n",
    "# and returns a numpy array of a given size\n",
    "sample = norm01.rvs(size=(30,))\n",
    "plt.plot(sample,'+')\n",
    "sample = norm01.rvs(size=(30,))\n",
    "plt.plot(sample,'+')"
   ]
  },
  {
   "cell_type": "markdown",
   "metadata": {},
   "source": [
    "## Is the mean significant? "
   ]
  },
  {
   "cell_type": "code",
   "execution_count": 3,
   "metadata": {
    "collapsed": false
   },
   "outputs": [],
   "source": [
    "# compute mean and corrected standard deviation\n",
    "sample_mean = sample.mean()\n",
    "sample_std = sample.std()\n",
    "N = len(sample)\n",
    "\n",
    "std_corrected = np.sqrt((sample**2 - sample_mean**2).sum()/(N-1))\n",
    "\n",
    "# take into account the \"N-1\" since 1 degrees of freedome has been used \n",
    "# to estimate the mean\n",
    "# assert not np.isclose(std_corrected, sample_std)\n",
    "assert np.isclose(std_corrected, np.sqrt(np.var(sample,ddof=1)))\n",
    "\n",
    "# compute t statistics\n",
    "t_value = sample_mean / (std_corrected/np.sqrt(std_corrected))\n",
    "\n",
    "#t_statistics = sample_mean / "
   ]
  },
  {
   "cell_type": "code",
   "execution_count": 4,
   "metadata": {
    "collapsed": false
   },
   "outputs": [
    {
     "name": "stdout",
     "output_type": "stream",
     "text": [
      "This is our p-value : 0.549528734059411\n",
      "Not good enough, continue p-hacking\n"
     ]
    }
   ],
   "source": [
    "# test it against the null : make a central t distribution \n",
    "central_t = sst.t(loc=0,scale=1,df=N-1)\n",
    "\n",
    "significance_thr = 0.05\n",
    "\n",
    "# use the survival function\n",
    "pvalue = central_t.sf(t_value)\n",
    "print(\"This is our p-value : {}\".format(pvalue))\n",
    "\n",
    "if pvalue < significance_thr:\n",
    "    print(\"OMG, I have a result\")\n",
    "else:\n",
    "    print(\"Not good enough, continue p-hacking\")"
   ]
  },
  {
   "cell_type": "markdown",
   "metadata": {},
   "source": [
    "## Estimate the chance that our p-value is significant under the null:"
   ]
  },
  {
   "cell_type": "code",
   "execution_count": 5,
   "metadata": {
    "collapsed": false
   },
   "outputs": [
    {
     "name": "stdout",
     "output_type": "stream",
     "text": [
      "[-0.47917424 -0.18565898]\n"
     ]
    }
   ],
   "source": [
    "print(norm01.rvs(size=(2,)))"
   ]
  },
  {
   "cell_type": "code",
   "execution_count": 6,
   "metadata": {
    "collapsed": true
   },
   "outputs": [],
   "source": [
    "# create a function that generate a p-value when data are from N(0,1)\n",
    "\n",
    "def yield_a_pvalue(distrib, N=30):\n",
    "    \"\"\"\n",
    "    Parameters\n",
    "    ----------\n",
    "    distrib:  distribution object(eg, norm(0,1))\n",
    "        a scipy.stats distribution \n",
    "    \n",
    "    Returns\n",
    "    -------\n",
    "    A p-value\n",
    "    \"\"\"\n",
    "    sample = distrib.rvs(size=(N,))\n",
    "    sample_mean = sample.mean()\n",
    "    std_corrected = np.sqrt(np.var(sample, ddof=1))\n",
    "\n",
    "    # compute t statistics\n",
    "    t_value = sample_mean / (std_corrected/np.sqrt(N))\n",
    "    \n",
    "    return sst.t.sf(t_value, df=N-1)\n"
   ]
  },
  {
   "cell_type": "code",
   "execution_count": 7,
   "metadata": {
    "collapsed": false
   },
   "outputs": [
    {
     "name": "stdout",
     "output_type": "stream",
     "text": [
      "8\n"
     ]
    }
   ],
   "source": [
    "# On average: 20 \n",
    "nb_of_test_needed = 0\n",
    "while yield_a_pvalue(norm01) > significance_thr:\n",
    "    nb_of_test_needed += 1\n",
    "print(nb_of_test_needed)"
   ]
  },
  {
   "cell_type": "code",
   "execution_count": 8,
   "metadata": {
    "collapsed": false
   },
   "outputs": [
    {
     "name": "stdout",
     "output_type": "stream",
     "text": [
      "We have 53 tests significant over 1000 trials, ie 5.3%\n"
     ]
    }
   ],
   "source": [
    "N_pval = 1000\n",
    "pvalues = np.asarray([yield_a_pvalue(sst.norm(0,1)) for i in range(N_pval)])\n",
    "number_significant = (pvalues <= significance_thr).sum()\n",
    "print(\"We have {} tests significant over {} trials, ie {}%\"\n",
    "              .format(number_significant, N_pval, 100*number_significant/N_pval))\n"
   ]
  },
  {
   "cell_type": "markdown",
   "metadata": {},
   "source": [
    "## With signal"
   ]
  },
  {
   "cell_type": "code",
   "execution_count": 11,
   "metadata": {
    "collapsed": false
   },
   "outputs": [
    {
     "name": "stdout",
     "output_type": "stream",
     "text": [
      "We have 503 tests significant over 1000 trials, ie 50.3%\n",
      "We have 468 tests significant over 1000 trials, ie 46.8%\n"
     ]
    }
   ],
   "source": [
    "def launch_a_bunch_of_tests(distrib, N_pval=1000, N=30):\n",
    "    \"\"\"\n",
    "    launches a series of sampling and then t tests on these (testing if the mean is > 0)\n",
    "    \n",
    "    Parameters:\n",
    "    -----------\n",
    "    distrib: the sampling distribution\n",
    "    N_pval: number of p-value to compute\n",
    "    N : the sample size\n",
    "    \"\"\"\n",
    "    pvalues = np.asarray([yield_a_pvalue(distrib) for i in range(N_pval)])\n",
    "    number_significant = (pvalues <= significance_thr).sum()\n",
    "    print(\"We have {} tests significant over {} trials, ie {}%\"\n",
    "                  .format(number_significant, N_pval, 100*number_significant/N_pval))\n",
    "\n",
    "# case 1\n",
    "#----------\n",
    "loc, scale = (1.65/np.sqrt(N), 1)\n",
    "distrib = sst.norm(loc, scale)\n",
    "launch_a_bunch_of_tests(distrib)\n",
    "# case 2\n",
    "#----------\n",
    "loc, scale = (0.165/np.sqrt(N), 0.1)\n",
    "distrib = sst.norm(loc, scale)\n",
    "launch_a_bunch_of_tests(distrib)\n",
    "\n"
   ]
  },
  {
   "cell_type": "code",
   "execution_count": null,
   "metadata": {
    "collapsed": true
   },
   "outputs": [],
   "source": []
  }
 ],
 "metadata": {
  "celltoolbar": "Raw Cell Format",
  "kernelspec": {
   "display_name": "Python 3",
   "language": "python",
   "name": "python3"
  },
  "language_info": {
   "codemirror_mode": {
    "name": "ipython",
    "version": 3
   },
   "file_extension": ".py",
   "mimetype": "text/x-python",
   "name": "python",
   "nbconvert_exporter": "python",
   "pygments_lexer": "ipython3",
   "version": "3.5.1+"
  }
 },
 "nbformat": 4,
 "nbformat_minor": 0
}

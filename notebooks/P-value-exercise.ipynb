{
 "cells": [
  {
   "cell_type": "markdown",
   "metadata": {
    "slideshow": {
     "slide_type": "slide"
    }
   },
   "source": [
    "# Playing with P-values"
   ]
  },
  {
   "cell_type": "markdown",
   "metadata": {
    "slideshow": {
     "slide_type": "slide"
    }
   },
   "source": [
    "## Recall some definitions "
   ]
  },
  {
   "cell_type": "markdown",
   "metadata": {
    "slideshow": {
     "slide_type": "subslide"
    }
   },
   "source": [
    "* $H_0$ : null hypothesis: The hypotheis that the effect we are testing for is null\n",
    "\n",
    "* $H_A$ : alternative hypothesis : Not $H_0$, so there is some signal\n",
    "\n",
    "* $T$ : The random variable that takes value \"significant\" or \"not significant\"\n",
    "\n",
    "* $T_S$ : Value of T when test is significant (eg $T = T_S$)\n",
    "\n",
    "* $T_N$ : Value of T when test is not significant (eg $T = T_N$)\n",
    "\n",
    "* $\\alpha$ : false positive rate - probability to reject $H_0$ when $H_0$ is true (therefore $H_A$ is false)\n",
    "\n",
    "* $\\beta$ : false negative rate - probability to accept $H_0$ when $H_A$ is true (i.e. $H_0$ is false)\n"
   ]
  },
  {
   "cell_type": "markdown",
   "metadata": {},
   "source": [
    "## What is P-hacking?"
   ]
  },
  {
   "cell_type": "markdown",
   "metadata": {},
   "source": [
    "P-hacking is finding regular variations in either data or models and considering them to be significant. The result is a positive report that is not reproducible or does not generalize. It is often unintentional. In this notebook, we'll go through a few examples of how we can find (and subsequently report) statistically-significant results "
   ]
  },
  {
   "cell_type": "markdown",
   "metadata": {},
   "source": [
    "## Exercise 1: Random selection"
   ]
  },
  {
   "cell_type": "markdown",
   "metadata": {},
   "source": [
    "In this exercise, we'll sample data points from a zero-mean Gaussian distribution and test whether the sample mean is significantly different from 0."
   ]
  },
  {
   "cell_type": "code",
   "execution_count": 1,
   "metadata": {},
   "outputs": [],
   "source": [
    "import matplotlib.pyplot as plt\n",
    "%matplotlib inline\n",
    "import numpy as np\n",
    "import scipy.stats as sst"
   ]
  },
  {
   "cell_type": "markdown",
   "metadata": {
    "slideshow": {
     "slide_type": "subslide"
    }
   },
   "source": [
    "### Step 1: Generate N samples from the normal distribution"
   ]
  },
  {
   "cell_type": "code",
   "execution_count": 2,
   "metadata": {
    "slideshow": {
     "slide_type": "skip"
    }
   },
   "outputs": [
    {
     "data": {
      "text/plain": [
       "[<matplotlib.lines.Line2D at 0x7fbfaf08f790>]"
      ]
     },
     "execution_count": 2,
     "metadata": {},
     "output_type": "execute_result"
    },
    {
     "data": {
      "image/png": "[encoded data removed]",
      "text/plain": [
       "<Figure size 432x288 with 1 Axes>"
      ]
     },
     "metadata": {
      "needs_background": "light"
     },
     "output_type": "display_data"
    }
   ],
   "source": [
    "# define the Normal 0,1 object\n",
    "norm01 = sst.norm(0,1)\n",
    "# Let's fix the seed of the random generator\n",
    "np.random.seed(42) # 42 is arbitrary \n",
    "# Draw from the normal:\n",
    "# norm01 has a \"random variables\" function drawing from this distribution\n",
    "# and returns a numpy array of a given size\n",
    "sample = norm01.rvs(size=(30,))\n",
    "plt.plot(sample,'+')\n",
    "sample = norm01.rvs(size=(30,))\n",
    "plt.plot(sample,'+')"
   ]
  },
  {
   "cell_type": "markdown",
   "metadata": {},
   "source": [
    "#### Is the mean significant? "
   ]
  },
  {
   "cell_type": "code",
   "execution_count": 3,
   "metadata": {},
   "outputs": [],
   "source": [
    "# Compute sample mean and corrected standard deviation\n",
    "sample_mean = sample.mean()\n",
    "sample_std = sample.std()\n",
    "N = len(sample)\n",
    "\n",
    "std_corrected = np.sqrt((sample**2 - sample_mean**2).sum()/(N-1))\n",
    "\n",
    "# take into account the \"N-1\" since 1 degrees of freedoms have been used \n",
    "# to estimate the mean\n",
    "# assert not np.isclose(std_corrected, sample_std)\n",
    "assert np.isclose(std_corrected, np.sqrt(np.var(sample,ddof=1)))\n",
    "\n",
    "# t-test: compute t statistics\n",
    "t_value = sample_mean / (std_corrected/np.sqrt(N))\n"
   ]
  },
  {
   "cell_type": "code",
   "execution_count": 4,
   "metadata": {},
   "outputs": [
    {
     "name": "stdout",
     "output_type": "stream",
     "text": [
      "This is our p-value : 0.7591488146556591\n",
      "Not good enough, continue p-hacking\n"
     ]
    }
   ],
   "source": [
    "# test it against the null : make a central t distribution \n",
    "central_t = sst.t(loc=0,scale=1,df=N-1)\n",
    "\n",
    "significance_thr = 0.05\n",
    "\n",
    "# use the survival function\n",
    "pvalue = central_t.sf(t_value)\n",
    "print(\"This is our p-value : {}\".format(pvalue))\n",
    "\n",
    "if pvalue < significance_thr:\n",
    "    print(\"Significant p-value!\")\n",
    "else:\n",
    "    print(\"Not good enough, continue p-hacking\")"
   ]
  },
  {
   "cell_type": "markdown",
   "metadata": {},
   "source": [
    "#### Estimate the chance that our p-value is significant under the null:"
   ]
  },
  {
   "cell_type": "code",
   "execution_count": 5,
   "metadata": {},
   "outputs": [
    {
     "name": "stdout",
     "output_type": "stream",
     "text": [
      "[-0.47917424 -0.18565898]\n"
     ]
    }
   ],
   "source": [
    "print(norm01.rvs(size=(2,)))"
   ]
  },
  {
   "cell_type": "code",
   "execution_count": 6,
   "metadata": {},
   "outputs": [],
   "source": [
    "# create a function that generate a p-value when data are from N(0,1)\n",
    "\n",
    "def yield_a_pvalue(distrib, N=30):\n",
    "    \"\"\"\n",
    "    Parameters\n",
    "    ----------\n",
    "    distrib:  distribution object(eg, norm(0,1))\n",
    "        a scipy.stats distribution \n",
    "    \n",
    "    Returns\n",
    "    -------\n",
    "    A p-value\n",
    "    \"\"\"\n",
    "    sample = distrib.rvs(size=(N,))\n",
    "    sample_mean = sample.mean()\n",
    "    std_corrected = np.sqrt(np.var(sample, ddof=1))\n",
    "\n",
    "    # compute t statistics\n",
    "    t_value = sample_mean / (std_corrected/np.sqrt(N))\n",
    "    \n",
    "    return sst.t.sf(t_value, df=N-1)\n"
   ]
  },
  {
   "cell_type": "code",
   "execution_count": 7,
   "metadata": {},
   "outputs": [
    {
     "name": "stdout",
     "output_type": "stream",
     "text": [
      "8\n"
     ]
    }
   ],
   "source": [
    "# On average: 20 \n",
    "nb_of_test_needed = 0\n",
    "while yield_a_pvalue(norm01) > significance_thr:\n",
    "    nb_of_test_needed += 1\n",
    "print(nb_of_test_needed)"
   ]
  },
  {
   "cell_type": "code",
   "execution_count": 8,
   "metadata": {},
   "outputs": [
    {
     "name": "stdout",
     "output_type": "stream",
     "text": [
      "We have 8 tests significant over 100 trials, ie 8.0%\n"
     ]
    }
   ],
   "source": [
    "N_pval = 100\n",
    "pvalues = np.asarray([yield_a_pvalue(sst.norm(0,1)) for i in range(N_pval)])\n",
    "number_significant = (pvalues <= significance_thr).sum()\n",
    "print(\"We have {} tests significant over {} trials, ie {}%\"\n",
    "              .format(number_significant, N_pval, 100*number_significant/N_pval))\n"
   ]
  },
  {
   "cell_type": "markdown",
   "metadata": {},
   "source": [
    "### Sample from non-zero mean:"
   ]
  },
  {
   "cell_type": "code",
   "execution_count": 9,
   "metadata": {},
   "outputs": [
    {
     "name": "stdout",
     "output_type": "stream",
     "text": [
      "We have 486 tests significant over 1000 trials, ie 48.6%\n",
      "We have 491 tests significant over 1000 trials, ie 49.1%\n"
     ]
    }
   ],
   "source": [
    "def launch_a_bunch_of_tests(distrib, N_pval=1000, N=30):\n",
    "    \"\"\"\n",
    "    launches a series of sampling and then t tests on these (testing if the mean is > 0)\n",
    "    \n",
    "    Parameters:\n",
    "    -----------\n",
    "    distrib: the sampling distribution\n",
    "    N_pval: number of p-value to compute\n",
    "    N : the sample size\n",
    "    \"\"\"\n",
    "    pvalues = np.asarray([yield_a_pvalue(distrib) for i in range(N_pval)])\n",
    "    number_significant = (pvalues <= significance_thr).sum()\n",
    "    print(\"We have {} tests significant over {} trials, ie {}%\"\n",
    "                  .format(number_significant, N_pval, 100*number_significant/N_pval))\n",
    "\n",
    "\n",
    "# Demonstrate that the test depends only on the signal to noise ratio, not the effect size\n",
    "    \n",
    "# case 1: m=1.65, sigma=1\n",
    "#---------------------------\n",
    "loc, scale = (1.65/np.sqrt(N), 1)\n",
    "distrib = sst.norm(loc, scale)\n",
    "launch_a_bunch_of_tests(distrib)\n",
    "# case 1: m=0.165, sigma=0.1\n",
    "#---------------------------\n",
    "loc, scale = (0.165/np.sqrt(N), 0.1)\n",
    "distrib = sst.norm(loc, scale)\n",
    "launch_a_bunch_of_tests(distrib)\n",
    "\n"
   ]
  },
  {
   "cell_type": "code",
   "execution_count": null,
   "metadata": {},
   "outputs": [],
   "source": []
  },
  {
   "cell_type": "markdown",
   "metadata": {
    "collapsed": true
   },
   "source": [
    "# Exercise 2: Overfitting"
   ]
  },
  {
   "cell_type": "markdown",
   "metadata": {
    "collapsed": true
   },
   "source": [
    "Overfitting refers to a model (e.g. a GLM) that fits too closely to the data on which it is trained and its predictions can't reproduced on new data.\n",
    "Overfitting can occur when there is very little data or if your model has too many parameters. For example, a GLM with 1000 explanatory variables can be might fit well to the time series of 4 subjects, but is unlikely to do well on a different set of 4 subjects."
   ]
  },
  {
   "cell_type": "markdown",
   "metadata": {},
   "source": [
    "In this exercise, we'll create some data and use regression to fit a model. The important parts of the code are the \"modify\" section for you to modify and examine the resulting changes.\n",
    "The number of samples, \"n_samples\" is the amount of data you have.\n",
    "The number of model parameters, \"degrees\" is the number of degrees of freedom given to your model. It will perform a linear regression on our generated data and a polynomial of the given degrees."
   ]
  },
  {
   "cell_type": "markdown",
   "metadata": {},
   "source": [
    "Taken from: https://scikit-learn.org/stable/auto_examples/model_selection/plot_underfitting_overfitting.html#sphx-glr-auto-examples-model-selection-plot-underfitting-overfitting-py"
   ]
  },
  {
   "cell_type": "code",
   "execution_count": 10,
   "metadata": {},
   "outputs": [
    {
     "data": {
      "image/png": "[encoded data removed]",
      "text/plain": [
       "<Figure size 1008x360 with 3 Axes>"
      ]
     },
     "metadata": {},
     "output_type": "display_data"
    }
   ],
   "source": [
    "import numpy as np\n",
    "import matplotlib.pyplot as plt\n",
    "from sklearn.pipeline import Pipeline\n",
    "from sklearn.preprocessing import PolynomialFeatures\n",
    "from sklearn.linear_model import LinearRegression\n",
    "from sklearn.model_selection import cross_val_score\n",
    "from sklearn.metrics import mean_squared_error\n",
    "# Define a function for us to fit; here we'll take a simple cosine\n",
    "def true_fun(X):\n",
    "    return np.cos(1.5 * np.pi * X)\n",
    "\n",
    "###\n",
    "# Modify\n",
    "###\n",
    "n_samples = 30  # Number of data points\n",
    "degrees = [1, 4, 15]   # Number of parameters; change the values to see the effect on out of sample error\n",
    "                       # For degree 4, the model will fit Y = b0 + b1*x + b2*x^2 + b3*x^3 + b4*x^4\n",
    "###\n",
    "\n",
    "test_max_value=1\n",
    "X = np.sort(np.random.rand(n_samples))\n",
    "y = true_fun(X) + np.random.randn(n_samples) * 0.1\n",
    "X_test = np.linspace(0, test_max_value, 100)\n",
    "plt.figure(figsize=(14, 5))\n",
    "\n",
    "for i in range(len(degrees)):\n",
    "    ax = plt.subplot(1, len(degrees), i + 1)\n",
    "    plt.setp(ax, xticks=(), yticks=())\n",
    "\n",
    "    polynomial_features = PolynomialFeatures(degree=degrees[i],\n",
    "                                             include_bias=False)\n",
    "    linear_regression = LinearRegression()\n",
    "    pipeline = Pipeline([(\"polynomial_features\", polynomial_features),\n",
    "                         (\"linear_regression\", linear_regression)])\n",
    "    pipeline.fit(X[:, np.newaxis], y)\n",
    "\n",
    "    # Evaluate the models using crossvalidation\n",
    "    train_score = mean_squared_error(y, pipeline.predict(X[:, np.newaxis]))\n",
    "    scores = cross_val_score(pipeline, X[:, np.newaxis], y,\n",
    "                             scoring=\"neg_mean_squared_error\", cv=10)\n",
    "\n",
    "    \n",
    "    plt.plot(X_test, pipeline.predict(X_test[:, np.newaxis]), label=\"Model\")\n",
    "    plt.plot(X_test, true_fun(X_test), label=\"True function\")\n",
    "    plt.scatter(X, y, edgecolor='b', s=20, label=\"Samples\")\n",
    "    plt.xlabel(\"x\")\n",
    "    plt.ylabel(\"y\")\n",
    "    plt.xlim((0, np.max(X_test)))\n",
    "    plt.ylim((-2, 2))\n",
    "    plt.legend(loc=\"best\")\n",
    "    plt.title(\"Degree {}\\nSample Error: {:.2e}\\nOut of sample err. = {:.2e}(+/- {:.1e})\".format(\n",
    "        degrees[i], train_score.mean(), -scores.mean(), scores.std()))\n",
    "plt.show()"
   ]
  },
  {
   "cell_type": "markdown",
   "metadata": {},
   "source": [
    "Examine the three previous plots.\n",
    "The \"Sample error\" is the error for the data in your sample; it represents the error you would have if you evaluated your model on data it had already seen.\n",
    "The \"Out of sample error\" is the error when your model is evaluated on data it has not seen. It represents how well your model generalizes.\n",
    "In both cases, a lower error is better.\n",
    "\n",
    "1) The left-most plot presents a plausible model.\n",
    "\n",
    "2) The polynomial of degree 4 has the lowest out of sample error, indicating that it is the best-performing model.\n",
    "\n",
    "3) The high-degree polynomial has the lowest sample error, but a very large out of sample error, indicating that it does not generalize well."
   ]
  },
  {
   "cell_type": "markdown",
   "metadata": {},
   "source": [
    "If we were to select our high-degree polynomial and report those results, we can immediately see that our results could not be reproduced."
   ]
  },
  {
   "cell_type": "markdown",
   "metadata": {},
   "source": [
    "### Exercise 3: Real Data"
   ]
  },
  {
   "cell_type": "markdown",
   "metadata": {},
   "source": [
    "The previous exercises examined toy examples. \n"
   ]
  },
  {
   "cell_type": "code",
   "execution_count": 11,
   "metadata": {},
   "outputs": [],
   "source": [
    "import pandas as pd\n",
    "from sklearn import linear_model\n",
    "from sklearn.linear_model import LinearRegression\n",
    "from sklearn.model_selection import cross_val_score\n",
    "\n",
    "data = pd.read_csv('brain_size.csv', delimiter=';', header=0, index_col=0)\n",
    "linear_regression = LinearRegression()"
   ]
  },
  {
   "cell_type": "code",
   "execution_count": 12,
   "metadata": {
    "scrolled": true
   },
   "outputs": [
    {
     "data": {
      "text/html": [
       "<div>\n",
       "<style scoped>\n",
       "    .dataframe tbody tr th:only-of-type {\n",
       "        vertical-align: middle;\n",
       "    }\n",
       "\n",
       "    .dataframe tbody tr th {\n",
       "        vertical-align: top;\n",
       "    }\n",
       "\n",
       "    .dataframe thead th {\n",
       "        text-align: right;\n",
       "    }\n",
       "</style>\n",
       "<table border=\"1\" class=\"dataframe\">\n",
       "  <thead>\n",
       "    <tr style=\"text-align: right;\">\n",
       "      <th></th>\n",
       "      <th>FSIQ</th>\n",
       "      <th>VIQ</th>\n",
       "      <th>PIQ</th>\n",
       "      <th>Weight</th>\n",
       "      <th>Height</th>\n",
       "      <th>MRI_Count</th>\n",
       "    </tr>\n",
       "  </thead>\n",
       "  <tbody>\n",
       "    <tr>\n",
       "      <th>count</th>\n",
       "      <td>38.000000</td>\n",
       "      <td>38.000000</td>\n",
       "      <td>38.000000</td>\n",
       "      <td>38.000000</td>\n",
       "      <td>38.000000</td>\n",
       "      <td>3.800000e+01</td>\n",
       "    </tr>\n",
       "    <tr>\n",
       "      <th>mean</th>\n",
       "      <td>113.552632</td>\n",
       "      <td>112.131579</td>\n",
       "      <td>111.342105</td>\n",
       "      <td>151.052632</td>\n",
       "      <td>68.421053</td>\n",
       "      <td>9.067542e+05</td>\n",
       "    </tr>\n",
       "    <tr>\n",
       "      <th>std</th>\n",
       "      <td>23.815391</td>\n",
       "      <td>22.939605</td>\n",
       "      <td>22.597867</td>\n",
       "      <td>23.478509</td>\n",
       "      <td>3.993790</td>\n",
       "      <td>7.256175e+04</td>\n",
       "    </tr>\n",
       "    <tr>\n",
       "      <th>min</th>\n",
       "      <td>77.000000</td>\n",
       "      <td>71.000000</td>\n",
       "      <td>72.000000</td>\n",
       "      <td>106.000000</td>\n",
       "      <td>62.000000</td>\n",
       "      <td>7.906190e+05</td>\n",
       "    </tr>\n",
       "    <tr>\n",
       "      <th>25%</th>\n",
       "      <td>90.250000</td>\n",
       "      <td>90.250000</td>\n",
       "      <td>89.250000</td>\n",
       "      <td>135.250000</td>\n",
       "      <td>66.000000</td>\n",
       "      <td>8.548115e+05</td>\n",
       "    </tr>\n",
       "    <tr>\n",
       "      <th>50%</th>\n",
       "      <td>116.500000</td>\n",
       "      <td>113.000000</td>\n",
       "      <td>115.000000</td>\n",
       "      <td>146.500000</td>\n",
       "      <td>68.000000</td>\n",
       "      <td>9.053990e+05</td>\n",
       "    </tr>\n",
       "    <tr>\n",
       "      <th>75%</th>\n",
       "      <td>135.000000</td>\n",
       "      <td>129.000000</td>\n",
       "      <td>128.000000</td>\n",
       "      <td>172.000000</td>\n",
       "      <td>70.375000</td>\n",
       "      <td>9.495405e+05</td>\n",
       "    </tr>\n",
       "    <tr>\n",
       "      <th>max</th>\n",
       "      <td>144.000000</td>\n",
       "      <td>150.000000</td>\n",
       "      <td>150.000000</td>\n",
       "      <td>192.000000</td>\n",
       "      <td>77.000000</td>\n",
       "      <td>1.079549e+06</td>\n",
       "    </tr>\n",
       "  </tbody>\n",
       "</table>\n",
       "</div>"
      ],
      "text/plain": [
       "             FSIQ         VIQ         PIQ      Weight     Height     MRI_Count\n",
       "count   38.000000   38.000000   38.000000   38.000000  38.000000  3.800000e+01\n",
       "mean   113.552632  112.131579  111.342105  151.052632  68.421053  9.067542e+05\n",
       "std     23.815391   22.939605   22.597867   23.478509   3.993790  7.256175e+04\n",
       "min     77.000000   71.000000   72.000000  106.000000  62.000000  7.906190e+05\n",
       "25%     90.250000   90.250000   89.250000  135.250000  66.000000  8.548115e+05\n",
       "50%    116.500000  113.000000  115.000000  146.500000  68.000000  9.053990e+05\n",
       "75%    135.000000  129.000000  128.000000  172.000000  70.375000  9.495405e+05\n",
       "max    144.000000  150.000000  150.000000  192.000000  77.000000  1.079549e+06"
      ]
     },
     "execution_count": 12,
     "metadata": {},
     "output_type": "execute_result"
    }
   ],
   "source": [
    "# Let's first look at our data:\n",
    "data.describe()"
   ]
  },
  {
   "cell_type": "markdown",
   "metadata": {},
   "source": [
    "The dataset is relatively simple, and contains 38 subjects with Full Scale, Verbal, and Perceptual IQ, as well as weight, height, and brain volume (\"MRI_Count\"). We'll repeat the previous exercise and we'll see a similar pattern."
   ]
  },
  {
   "cell_type": "code",
   "execution_count": 13,
   "metadata": {},
   "outputs": [
    {
     "data": {
      "image/png": "[encoded data removed]",
      "text/plain": [
       "<Figure size 1008x360 with 3 Axes>"
      ]
     },
     "metadata": {},
     "output_type": "display_data"
    }
   ],
   "source": [
    "###\n",
    "# Modify\n",
    "###\n",
    "num_subject = 30       # Number of subjects for in-sample data (must be less than 38)\n",
    "degrees = [1, 4, 15]   # For degree 4, the model will fit Y = b0 + b1*x + b2*x^2 + b3*x^3 + b4*x^4\n",
    "input_variable='Weight'\n",
    "predicted_variable='Height'\n",
    "###\n",
    "\n",
    "test_max_value=1\n",
    "\n",
    "X = np.array(data[input_variable][:num_subject]).T[:, np.newaxis]\n",
    "y = np.array(data[predicted_variable][:num_subject]).T[:, np.newaxis]\n",
    "\n",
    "X_test = np.array(data[input_variable][num_subject:]).T\n",
    "xind = np.argsort(X_test)\n",
    "X_test = np.take_along_axis(X_test, xind, 0)[:, np.newaxis]\n",
    "y_test = np.array(data[predicted_variable][num_subject:]).T\n",
    "y_test = np.take_along_axis(y_test, xind, 0)[:, np.newaxis]\n",
    "plt.figure(figsize=(14, 5))\n",
    "\n",
    "for i in range(len(degrees)):\n",
    "    ax = plt.subplot(1, len(degrees), i + 1)\n",
    "    plt.setp(ax, xticks=(), yticks=())\n",
    "\n",
    "    polynomial_features = PolynomialFeatures(degree=degrees[i],\n",
    "                                             include_bias=False)\n",
    "    linear_regression = LinearRegression()\n",
    "    pipeline = Pipeline([(\"polynomial_features\", polynomial_features),\n",
    "                         (\"linear_regression\", linear_regression)])\n",
    "    pipeline.fit(X, y)\n",
    "\n",
    "    # Evaluate the models using crossvalidation\n",
    "    train_score = mean_squared_error(y, pipeline.predict(X))\n",
    "    scores = cross_val_score(pipeline, X, y,\n",
    "                             scoring=\"neg_mean_squared_error\", cv=10)\n",
    "\n",
    "    m_range = np.linspace(np.min(X), np.max(X), 100)[:, np.newaxis]\n",
    "    \n",
    "    plt.plot(m_range, pipeline.predict(m_range), label=\"Model\")\n",
    "    plt.scatter(X_test, y_test, label=\"Test data\")\n",
    "    plt.scatter(X, y, edgecolor='b', s=20, label=\"Samples\")\n",
    "    plt.xlabel(\"x\")\n",
    "    plt.ylabel(\"y\")\n",
    "    plt.xlim((np.min(X), np.max(X_test)))\n",
    "    plt.ylim((np.min(y)*0.9, np.max(y)*1.1))\n",
    "    plt.legend(loc=\"best\")\n",
    "    plt.title(\"Degree {}\\nSample Error: {:.2e}\\nOut of sample err. = {:.2e}(+/- {:.1e})\".format(\n",
    "        degrees[i], train_score.mean(), -scores.mean(), scores.std()))\n",
    "plt.show()"
   ]
  },
  {
   "cell_type": "code",
   "execution_count": null,
   "metadata": {},
   "outputs": [],
   "source": []
  }
 ],
 "metadata": {
  "celltoolbar": "Raw Cell Format",
  "kernelspec": {
   "display_name": "Python 3",
   "language": "python",
   "name": "python3"
  },
  "language_info": {
   "codemirror_mode": {
    "name": "ipython",
    "version": 3
   },
   "file_extension": ".py",
   "mimetype": "text/x-python",
   "name": "python",
   "nbconvert_exporter": "python",
   "pygments_lexer": "ipython3",
   "version": "3.7.5"
  },
  "toc": {
   "nav_menu": {},
   "number_sections": true,
   "sideBar": true,
   "skip_h1_title": false,
   "toc_cell": false,
   "toc_position": {},
   "toc_section_display": "block",
   "toc_window_display": false
  }
 },
 "nbformat": 4,
 "nbformat_minor": 1
}

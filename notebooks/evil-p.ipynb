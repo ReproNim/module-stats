{
 "cells": [
  {
   "cell_type": "code",
   "execution_count": 1,
   "metadata": {
    "collapsed": true
   },
   "outputs": [],
   "source": [
    "import matplotlib.pyplot as plt\n",
    "%matplotlib inline\n",
    "import numpy as np\n",
    "import scipy.stats as sst"
   ]
  },
  {
   "cell_type": "markdown",
   "metadata": {},
   "source": [
    "# Create a normal distribution\n"
   ]
  },
  {
   "cell_type": "code",
   "execution_count": 7,
   "metadata": {
    "collapsed": true
   },
   "outputs": [],
   "source": [
    "np.random.seed(42) # 42 is arbitrary \n"
   ]
  },
  {
   "cell_type": "code",
   "execution_count": 10,
   "metadata": {
    "collapsed": true
   },
   "outputs": [],
   "source": [
    "# define the normal 0,1 object\n",
    "norm01 = sst.norm(0,1)\n",
    "# Let's fix the seed of the random generator\n",
    "sample = norm01.rvs(size=(30,))\n"
   ]
  },
  {
   "cell_type": "code",
   "execution_count": 11,
   "metadata": {},
   "outputs": [
    {
     "name": "stdout",
     "output_type": "stream",
     "text": [
      "sample mean:  -0.12116247029 sample_std:  0.931102197828\n"
     ]
    }
   ],
   "source": [
    "# compute mean and corrected standard deviation\n",
    "sample_mean = sample.mean()\n",
    "#sample_std_biased = sample.std()\n",
    "sample_std = np.sqrt(np.var(sample,ddof=1))\n",
    "# print(sample_std,sample_std_biased)\n",
    "N = len(sample)\n",
    "\n",
    "print(\"sample mean: \",sample_mean, \"sample_std: \", sample_std)"
   ]
  },
  {
   "cell_type": "markdown",
   "metadata": {},
   "source": [
    "# compute the t-value"
   ]
  },
  {
   "cell_type": "code",
   "execution_count": 14,
   "metadata": {},
   "outputs": [
    {
     "name": "stdout",
     "output_type": "stream",
     "text": [
      "-0.712740430166\n"
     ]
    }
   ],
   "source": [
    "t_value = sample_mean / (sample_std/np.sqrt(N))\n",
    "print(t_value)"
   ]
  },
  {
   "cell_type": "code",
   "execution_count": 15,
   "metadata": {
    "collapsed": true
   },
   "outputs": [],
   "source": [
    "def t_value_from_sample(sample):\n",
    "    \"\"\"\n",
    "    \"\"\"\n",
    "    N = len(sample)\n",
    "    sample_mean = sample.mean()\n",
    "    sample_std = np.sqrt(np.var(sample,ddof=1))\n",
    "    t_val = sample_mean / (sample_std/np.sqrt(N))\n",
    "    return t_val\n",
    "    "
   ]
  },
  {
   "cell_type": "code",
   "execution_count": 16,
   "metadata": {},
   "outputs": [
    {
     "name": "stdout",
     "output_type": "stream",
     "text": [
      "-0.712740430166\n"
     ]
    }
   ],
   "source": [
    "print(t_value_from_sample(sample))"
   ]
  },
  {
   "cell_type": "code",
   "execution_count": 23,
   "metadata": {},
   "outputs": [],
   "source": [
    "N = len(sample)\n",
    "p_val = sst.t.sf(t_value_from_sample(sample), df=N-1)"
   ]
  },
  {
   "cell_type": "code",
   "execution_count": 39,
   "metadata": {},
   "outputs": [
    {
     "name": "stdout",
     "output_type": "stream",
     "text": [
      "2.1735621487 \t 0.0288886460258 \t *\n",
      "0.767007566794 \t 0.231360991293 \t \n",
      "1.96908372312 \t 0.04023031062 \t *\n",
      "4.17556599924 \t 0.00119588688557 \t *\n",
      "1.01041324359 \t 0.169344618058 \t \n",
      "2.77101002259 \t 0.0108588071158 \t *\n",
      "1.36007066017 \t 0.103448693455 \t \n",
      "1.3865243707 \t 0.0994836166793 \t \n",
      "1.47351195753 \t 0.0873532800918 \t \n",
      "-0.252427353601 \t 0.59680937322 \t \n",
      "-0.887571940059 \t 0.801065166464 \t \n",
      "1.01410277892 \t 0.168509581568 \t \n",
      "1.63581207669 \t 0.0681538168244 \t \n",
      "1.15606629574 \t 0.138709820518 \t \n",
      "1.45984746695 \t 0.0891691411161 \t \n",
      "2.26500619385 \t 0.0248838490487 \t *\n",
      "1.56555213343 \t 0.0759470927723 \t \n",
      "-0.655824062314 \t 0.735827670552 \t \n",
      "2.57939147971 \t 0.0148631396506 \t *\n",
      "0.128336563234 \t 0.450352324244 \t \n"
     ]
    },
    {
     "data": {
      "text/plain": [
       "[0.62325194524484306,\n",
       " 0.64715730653093606,\n",
       " 0.77799993312044102,\n",
       " 0.56630665908066535,\n",
       " 0.62821705009334994,\n",
       " 0.89807329092886423]"
      ]
     },
     "execution_count": 39,
     "metadata": {},
     "output_type": "execute_result"
    }
   ],
   "source": [
    "sample_size = 10\n",
    "distrib = sst.norm(.5,1)\n",
    "effect_size = []\n",
    "nb_of_experiments = 20\n",
    "\n",
    "for idx in range(nb_of_experiments):\n",
    "    sample =  distrib.rvs(size=(sample_size,))\n",
    "    t_val = t_value_from_sample(sample)\n",
    "    p_val = sst.t.sf(t_value_from_sample(sample), df=sample_size-1)\n",
    "    signif = int(p_val <= 0.05)\n",
    "    print(t_val, \"\\t\", p_val,\"\\t\",  \"*\"*signif)\n",
    "    if signif:\n",
    "        effect_size.append(sample.mean())\n",
    "\n",
    "effect_size"
   ]
  },
  {
   "cell_type": "code",
   "execution_count": 40,
   "metadata": {},
   "outputs": [
    {
     "name": "stdout",
     "output_type": "stream",
     "text": [
      "0.6901676975\n"
     ]
    }
   ],
   "source": [
    "print(np.asanyarray(effect_size).mean())"
   ]
  },
  {
   "cell_type": "code",
   "execution_count": null,
   "metadata": {
    "collapsed": true
   },
   "outputs": [],
   "source": []
  },
  {
   "cell_type": "code",
   "execution_count": null,
   "metadata": {
    "collapsed": true
   },
   "outputs": [],
   "source": []
  }
 ],
 "metadata": {
  "kernelspec": {
   "display_name": "Python 3",
   "language": "python",
   "name": "python3"
  },
  "language_info": {
   "codemirror_mode": {
    "name": "ipython",
    "version": 3
   },
   "file_extension": ".py",
   "mimetype": "text/x-python",
   "name": "python",
   "nbconvert_exporter": "python",
   "pygments_lexer": "ipython3",
   "version": "3.5.1+"
  },
  "toc": {
   "nav_menu": {},
   "number_sections": true,
   "sideBar": true,
   "skip_h1_title": false,
   "toc_cell": false,
   "toc_position": {},
   "toc_section_display": "block",
   "toc_window_display": false
  }
 },
 "nbformat": 4,
 "nbformat_minor": 2
}
